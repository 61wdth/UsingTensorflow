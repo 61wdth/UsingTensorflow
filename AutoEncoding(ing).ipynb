{
  "nbformat": 4,
  "nbformat_minor": 0,
  "metadata": {
    "colab": {
      "name": "Untitled10.ipynb",
      "provenance": [],
      "collapsed_sections": []
    },
    "kernelspec": {
      "name": "python3",
      "display_name": "Python 3"
    }
  },
  "cells": [
    {
      "cell_type": "code",
      "metadata": {
        "id": "DE88Nq9L0RVH",
        "colab_type": "code",
        "colab": {
          "base_uri": "https://localhost:8080/",
          "height": 64
        },
        "outputId": "cb29a3dd-f9b4-424a-ee86-7c21b5b6299d"
      },
      "source": [
        "import os, sys\n",
        "import tensorflow as tf\n",
        "import matplotlib.pyplot as plt"
      ],
      "execution_count": 1,
      "outputs": [
        {
          "output_type": "display_data",
          "data": {
            "text/html": [
              "<p style=\"color: red;\">\n",
              "The default version of TensorFlow in Colab will soon switch to TensorFlow 2.x.<br>\n",
              "We recommend you <a href=\"https://www.tensorflow.org/guide/migrate\" target=\"_blank\">upgrade</a> now \n",
              "or ensure your notebook will continue to use TensorFlow 1.x via the <code>%tensorflow_version 1.x</code> magic:\n",
              "<a href=\"https://colab.research.google.com/notebooks/tensorflow_version.ipynb\" target=\"_blank\">more info</a>.</p>\n"
            ],
            "text/plain": [
              "<IPython.core.display.HTML object>"
            ]
          },
          "metadata": {
            "tags": []
          }
        }
      ]
    },
    {
      "cell_type": "code",
      "metadata": {
        "id": "x0N45HaO0mEq",
        "colab_type": "code",
        "colab": {}
      },
      "source": [
        "import matplotlib\n",
        "import numpy as np"
      ],
      "execution_count": 0,
      "outputs": []
    },
    {
      "cell_type": "code",
      "metadata": {
        "id": "rbGnJIAj0p2K",
        "colab_type": "code",
        "colab": {}
      },
      "source": [
        "def reset_graph(seed = 42):\n",
        "  tf.reset_default_graph()\n",
        "  tf.set_random_seed(seed)\n",
        "  np.random.seed(seed)"
      ],
      "execution_count": 0,
      "outputs": []
    },
    {
      "cell_type": "code",
      "metadata": {
        "id": "K7qLz_DO5FAK",
        "colab_type": "code",
        "colab": {}
      },
      "source": [
        "plt.rcParams['axes.labelsize'] = 14\n",
        "plt.rcParams['xtick.labelsize'] = 12\n",
        "plt.rcParams['ytick.labelsize'] = 12\n",
        "matplotlib.rc('font', family='Malgun Gothic') \n",
        "plt.rcParams['axes.unicode_minus'] = False"
      ],
      "execution_count": 0,
      "outputs": []
    },
    {
      "cell_type": "code",
      "metadata": {
        "id": "pUACjcm35Rhi",
        "colab_type": "code",
        "colab": {}
      },
      "source": [
        "def plot_image(image, shape = [28, 28]):\n",
        "  plt.imshow(image.reshape(shape), cmap = 'grey', interpolation = 'nearest')\n",
        "  plt.axis(\"off\")\n",
        "def plot_multiple_images(images, n_rows, n_cols, pad = 2):\n",
        "  images = images - images.min()\n",
        "  w, h = images.shape[1:]\n",
        "  image = np.zeros(((w + pad)*n_rows + pad, (h + pad)*n_cols + pad))\n",
        "  for y in range(n_rows):\n",
        "    for x in range(n_cols):\n",
        "      image[(y*(h + pad) + pad): ((y+1)*(h + pad)), (x*(w + pad) + pad): ((x+1)*(h+pad))] = images[y*n_cols + x]\n",
        "  plt.imshow(image, cmap = 'grey', interpolation = 'nearest')\n",
        "  plt.axis(\"off\")\n",
        "\n"
      ],
      "execution_count": 0,
      "outputs": []
    },
    {
      "cell_type": "markdown",
      "metadata": {
        "id": "k-C5UgiIAfZb",
        "colab_type": "text"
      },
      "source": [
        "## 오토인코더로 PCA 구현하기"
      ]
    },
    {
      "cell_type": "code",
      "metadata": {
        "id": "dkxPezoSAqQM",
        "colab_type": "code",
        "colab": {}
      },
      "source": [
        "import numpy.random as rnd\n",
        "rnd.seed(4)\n",
        "m = 200\n",
        "w1, w2 = 0.1, 0.3\n",
        "noise = 0.1\n",
        "\n",
        "angles = rnd.rand(m)*3*np.pi / 2 - 0.5\n",
        "data = np.empty((m,3))\n",
        "data[:,0] = np.cos(angles) + np.sin(angles)/2 + noise * rnd.randn(m)/2\n",
        "data[:, 1] = np.sin(angles) * 0.7 + noise * rnd.randn(m) / 2\n",
        "data[:, 2] = data[:, 0] * w1 + data[:, 1] * w2 + noise * rnd.randn(m)"
      ],
      "execution_count": 0,
      "outputs": []
    },
    {
      "cell_type": "code",
      "metadata": {
        "id": "loI177LnCFCM",
        "colab_type": "code",
        "colab": {}
      },
      "source": [
        "from sklearn.preprocessing import StandardScaler\n",
        "scaler = StandardScaler()\n",
        "X_train = scaler.fit_transform(data[:100])\n",
        "Y_train = scaler.transform(data[100:])"
      ],
      "execution_count": 0,
      "outputs": []
    },
    {
      "cell_type": "code",
      "metadata": {
        "id": "m9vaSzqcCnu-",
        "colab_type": "code",
        "colab": {}
      },
      "source": [
        "reset_graph()\n",
        "n_inputs = 3\n",
        "n_hidden = 2\n",
        "n_outputs = n_inputs\n",
        "\n",
        "X = tf.placeholder(tf.float32, shape = [None, n_inputs])\n",
        "hidden = tf.layers.dense(X, n_hidden)\n",
        "outputs = tf.layers.dense(hidden, n_outputs)\n",
        "\n",
        "learning_rate = 0.01\n",
        "iteration_num = 1000\n",
        "pca = hidden\n",
        "\n",
        "loss_func = tf.reduce_mean(tf.square(X - outputs))\n",
        "optimizer = tf.train.AdamOptimizer(learning_rate).minimize(loss_func)\n",
        "\n",
        "with tf.Session() as sess:\n",
        "  tf.global_variables_initializer().run()\n",
        "  for step in range(iteration_num):\n",
        "    optimizer.run(feed_dict = {X: X_train})\n",
        "  pca_val = pca.eval(feed_dict = {X: X_train})\n"
      ],
      "execution_count": 0,
      "outputs": []
    },
    {
      "cell_type": "code",
      "metadata": {
        "id": "P4EwWdEpFIWv",
        "colab_type": "code",
        "colab": {
          "base_uri": "https://localhost:8080/",
          "height": 290
        },
        "outputId": "9dbef365-42f7-403a-d696-23705688db96"
      },
      "source": [
        "\n",
        "fig = plt.figure(figsize=(4,3))\n",
        "plt.plot(pca_val[:,0], pca_val[:, 1], \"b.\")\n",
        "plt.xlabel(\"$z_1$\", fontsize=18)\n",
        "plt.ylabel(\"$z_2$\", fontsize=18, rotation=0)\n",
        "print('pca_val.shape :', pca_val.shape)\n",
        "plt.show()"
      ],
      "execution_count": 16,
      "outputs": [
        {
          "output_type": "stream",
          "text": [
            "findfont: Font family ['Malgun Gothic'] not found. Falling back to DejaVu Sans.\n",
            "findfont: Font family ['Malgun Gothic'] not found. Falling back to DejaVu Sans.\n"
          ],
          "name": "stderr"
        },
        {
          "output_type": "stream",
          "text": [
            "pca_val.shape : (100, 2)\n"
          ],
          "name": "stdout"
        },
        {
          "output_type": "display_data",
          "data": {
            "image/png": "[encoded data removed]",
            "text/plain": [
              "<Figure size 288x216 with 1 Axes>"
            ]
          },
          "metadata": {
            "tags": []
          }
        }
      ]
    },
    {
      "cell_type": "code",
      "metadata": {
        "id": "c5v7IT3FFniN",
        "colab_type": "code",
        "colab": {}
      },
      "source": [
        ""
      ],
      "execution_count": 0,
      "outputs": []
    }
  ]
}